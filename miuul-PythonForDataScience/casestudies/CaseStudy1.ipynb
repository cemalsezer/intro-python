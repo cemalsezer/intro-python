{
 "cells": [
  {
   "cell_type": "code",
   "execution_count": 10,
   "id": "148fab99",
   "metadata": {},
   "outputs": [
    {
     "data": {
      "text/plain": [
       "int"
      ]
     },
     "execution_count": 10,
     "metadata": {},
     "output_type": "execute_result"
    }
   ],
   "source": [
    "x=8\n",
    "type(x)"
   ]
  },
  {
   "cell_type": "code",
   "execution_count": 11,
   "id": "54568b65",
   "metadata": {},
   "outputs": [
    {
     "data": {
      "text/plain": [
       "float"
      ]
     },
     "execution_count": 11,
     "metadata": {},
     "output_type": "execute_result"
    }
   ],
   "source": [
    "y=3.2\n",
    "type(y)"
   ]
  },
  {
   "cell_type": "code",
   "execution_count": 12,
   "id": "56f0f8e5",
   "metadata": {},
   "outputs": [
    {
     "data": {
      "text/plain": [
       "complex"
      ]
     },
     "execution_count": 12,
     "metadata": {},
     "output_type": "execute_result"
    }
   ],
   "source": [
    "z=8j+18\n",
    "type(z)"
   ]
  },
  {
   "cell_type": "code",
   "execution_count": 13,
   "id": "33fef763",
   "metadata": {},
   "outputs": [
    {
     "data": {
      "text/plain": [
       "str"
      ]
     },
     "execution_count": 13,
     "metadata": {},
     "output_type": "execute_result"
    }
   ],
   "source": [
    "a=\"Hello World\"\n",
    "type(a)"
   ]
  },
  {
   "cell_type": "code",
   "execution_count": 14,
   "id": "e99fa7cc",
   "metadata": {},
   "outputs": [
    {
     "data": {
      "text/plain": [
       "bool"
      ]
     },
     "execution_count": 14,
     "metadata": {},
     "output_type": "execute_result"
    }
   ],
   "source": [
    "b=True\n",
    "type(b)\n"
   ]
  },
  {
   "cell_type": "code",
   "execution_count": 15,
   "id": "63574df7",
   "metadata": {},
   "outputs": [
    {
     "data": {
      "text/plain": [
       "bool"
      ]
     },
     "execution_count": 15,
     "metadata": {},
     "output_type": "execute_result"
    }
   ],
   "source": [
    "c=23<22\n",
    "type(c)\n"
   ]
  },
  {
   "cell_type": "code",
   "execution_count": 16,
   "id": "1d5fe2cf",
   "metadata": {},
   "outputs": [
    {
     "data": {
      "text/plain": [
       "list"
      ]
     },
     "execution_count": 16,
     "metadata": {},
     "output_type": "execute_result"
    }
   ],
   "source": [
    "l=[1,2,3,4]\n",
    "type(l)\n"
   ]
  },
  {
   "cell_type": "code",
   "execution_count": 17,
   "id": "6a92b9bb",
   "metadata": {},
   "outputs": [
    {
     "data": {
      "text/plain": [
       "dict"
      ]
     },
     "execution_count": 17,
     "metadata": {},
     "output_type": "execute_result"
    }
   ],
   "source": [
    "d={\"Name\":\"Jake\",\n",
    "   \"Age\":27,\n",
    "   \"Adress\":\"Downtown\"}\n",
    "type(d)\n"
   ]
  },
  {
   "cell_type": "code",
   "execution_count": 18,
   "id": "08981f73",
   "metadata": {},
   "outputs": [
    {
     "data": {
      "text/plain": [
       "set"
      ]
     },
     "execution_count": 18,
     "metadata": {},
     "output_type": "execute_result"
    }
   ],
   "source": [
    "t= {\"Machine Learning\", \"Data Science\"}\n",
    "type(t)\n"
   ]
  },
  {
   "cell_type": "code",
   "execution_count": 19,
   "id": "b31ea6c3",
   "metadata": {},
   "outputs": [
    {
     "data": {
      "text/plain": [
       "set"
      ]
     },
     "execution_count": 19,
     "metadata": {},
     "output_type": "execute_result"
    }
   ],
   "source": [
    "s= {\"Python\",\"Machine Learning\",\"Data Science\"}\n",
    "type(s)"
   ]
  },
  {
   "cell_type": "code",
   "execution_count": 33,
   "id": "2806b62b",
   "metadata": {},
   "outputs": [
    {
     "name": "stdout",
     "output_type": "stream",
     "text": [
      "['THE', 'GOAL', 'IS', 'TO', 'TURN', 'INTO', 'INFORMATION', '', 'AND', 'INFORMATION', 'INTO', 'INSIGHT', '']\n"
     ]
    }
   ],
   "source": [
    "a=[]\n",
    "text=\"The goal is to turn into information, and information into insight.\"\n",
    "a=text.upper().replace(\",\",\" \").replace(\".\",\" \").split(\" \")\n",
    "print(a)"
   ]
  },
  {
   "cell_type": "code",
   "execution_count": 43,
   "id": "7519cff2",
   "metadata": {
    "collapsed": true
   },
   "outputs": [
    {
     "name": "stdout",
     "output_type": "stream",
     "text": [
      "0\n",
      "1\n",
      "2\n",
      "3\n",
      "4\n",
      "5\n",
      "6\n",
      "7\n",
      "8\n",
      "9\n",
      "10\n"
     ]
    }
   ],
   "source": [
    "lst=[\"D\",\"A\",\"T\",\"A\",\"S\",\"C\",\"I\",\"E\",\"N\",\"C\",\"E\"]\n",
    "\n",
    "for i in range(len(lst)):\n",
    "    print(i)"
   ]
  },
  {
   "cell_type": "code",
   "execution_count": 91,
   "id": "aa28a6b7",
   "metadata": {},
   "outputs": [
    {
     "name": "stdout",
     "output_type": "stream",
     "text": [
      "D C\n"
     ]
    }
   ],
   "source": [
    "lst=[\"D\",\"A\",\"T\",\"A\",\"S\",\"C\",\"I\",\"E\",\"N\",\"C\",\"E\"]\n",
    "\n",
    "print(lst[0],lst[10])\n",
    "        \n",
    "        "
   ]
  },
  {
   "cell_type": "code",
   "execution_count": 90,
   "id": "97a09bd1",
   "metadata": {},
   "outputs": [
    {
     "name": "stdout",
     "output_type": "stream",
     "text": [
      "['D', 'A', 'T', 'A']\n"
     ]
    }
   ],
   "source": [
    "x=[]\n",
    "x=lst[0:4]\n",
    "print(x)"
   ]
  },
  {
   "cell_type": "code",
   "execution_count": 105,
   "id": "2a370ea6",
   "metadata": {},
   "outputs": [
    {
     "name": "stdout",
     "output_type": "stream",
     "text": [
      "['D', 'A', 'T', 'A', 'S', 'C', 'I', 'E', 'C', 'E']\n"
     ]
    }
   ],
   "source": [
    "lst=[\"D\",\"A\",\"T\",\"A\",\"S\",\"C\",\"I\",\"E\",\"N\",\"C\",\"E\"]\n",
    "lst.pop(8)\n",
    "print(lst)"
   ]
  },
  {
   "cell_type": "code",
   "execution_count": 106,
   "id": "61f34d9e",
   "metadata": {},
   "outputs": [
    {
     "name": "stdout",
     "output_type": "stream",
     "text": [
      "['D', 'A', 'T', 'A', 'S', 'C', 'I', 'E', 'C', 'E', 'X']\n"
     ]
    }
   ],
   "source": [
    "lst.append(\"X\")\n",
    "print(lst)"
   ]
  },
  {
   "cell_type": "code",
   "execution_count": 107,
   "id": "3c98568b",
   "metadata": {},
   "outputs": [
    {
     "name": "stdout",
     "output_type": "stream",
     "text": [
      "['D', 'A', 'T', 'A', 'S', 'C', 'I', 'E', 'N', 'C', 'E', 'X']\n"
     ]
    }
   ],
   "source": [
    "lst.insert(8,\"N\")\n",
    "print(lst)"
   ]
  },
  {
   "cell_type": "code",
   "execution_count": 316,
   "id": "a8b60b5e",
   "metadata": {},
   "outputs": [],
   "source": [
    "mydict={'Christian':[\"America\",18],\n",
    "      'Daisy':[\"England\",12],\n",
    "      'Antonio':[\"Spain\",22],\n",
    "      'Dante':[\"Italy\",25]}"
   ]
  },
  {
   "cell_type": "code",
   "execution_count": 317,
   "id": "0896f43b",
   "metadata": {},
   "outputs": [
    {
     "data": {
      "text/plain": [
       "dict_keys(['Christian', 'Daisy', 'Antonio', 'Dante'])"
      ]
     },
     "execution_count": 317,
     "metadata": {},
     "output_type": "execute_result"
    }
   ],
   "source": [
    "mydict.keys()"
   ]
  },
  {
   "cell_type": "code",
   "execution_count": 318,
   "id": "7dec50cd",
   "metadata": {},
   "outputs": [
    {
     "data": {
      "text/plain": [
       "dict_values([['America', 18], ['England', 12], ['Spain', 22], ['Italy', 25]])"
      ]
     },
     "execution_count": 318,
     "metadata": {},
     "output_type": "execute_result"
    }
   ],
   "source": [
    "mydict.values()"
   ]
  },
  {
   "cell_type": "code",
   "execution_count": 319,
   "id": "575c7348",
   "metadata": {},
   "outputs": [
    {
     "name": "stdout",
     "output_type": "stream",
     "text": [
      "{'Christian': ['America', 18], 'Daisy': ['England', 13], 'Antonio': ['Spain', 22], 'Dante': ['Italy', 25]}\n"
     ]
    }
   ],
   "source": [
    "for i in mydict.keys():\n",
    "    if i == 'Daisy':\n",
    "        mydict[\"Daisy\"]=[\"England\",13]\n",
    "\n",
    "print(mydict)"
   ]
  },
  {
   "cell_type": "markdown",
   "id": "0f6943ee",
   "metadata": {},
   "source": [
    "### "
   ]
  },
  {
   "cell_type": "code",
   "execution_count": 320,
   "id": "39e2019f",
   "metadata": {},
   "outputs": [
    {
     "name": "stdout",
     "output_type": "stream",
     "text": [
      "{'Christian': ['America', 18], 'Daisy': ['England', 13], 'Antonio': ['Spain', 22], 'Dante': ['Italy', 25], 'Ahmet': ['Turkey', 24]}\n"
     ]
    }
   ],
   "source": [
    "mydict['Ahmet']=[\"Turkey\",24] \n",
    "print(mydict)"
   ]
  },
  {
   "cell_type": "code",
   "execution_count": 322,
   "id": "f6c88e74",
   "metadata": {},
   "outputs": [
    {
     "name": "stdout",
     "output_type": "stream",
     "text": [
      "{'Christian': ['America', 18], 'Daisy': ['England', 13], 'Dante': ['Italy', 25], 'Ahmet': ['Turkey', 24]}\n"
     ]
    }
   ],
   "source": [
    "for i in mydict.keys():\n",
    "    if i == 'Antonio':\n",
    "        del mydict[i]\n",
    "\n",
    "print(mydict)"
   ]
  },
  {
   "cell_type": "code",
   "execution_count": 24,
   "id": "13c8a821",
   "metadata": {},
   "outputs": [
    {
     "data": {
      "text/plain": [
       "[[2, 18, 22], [13, 93]]"
      ]
     },
     "execution_count": 24,
     "metadata": {},
     "output_type": "execute_result"
    }
   ],
   "source": [
    "l=[2,13,18,93,22]\n",
    "group=[[],[]]\n",
    "\n",
    "def gruplama(x):\n",
    "    for i in x:\n",
    "        if i%2==0:\n",
    "            group[0].append(i)\n",
    "        else:\n",
    "            group[1].append(i)\n",
    "    return group\n",
    "\n",
    "gruplama(l)"
   ]
  },
  {
   "cell_type": "code",
   "execution_count": 101,
   "id": "0dce5b15",
   "metadata": {},
   "outputs": [
    {
     "data": {
      "text/plain": [
       "(['Mühendislik Fakültesi 1. öğrenci: Ali',\n",
       "  'Mühendislik Fakültesi 2. öğrenci: Veli',\n",
       "  'Mühendislik Fakültesi 3. öğrenci: Ayşe'],\n",
       " ['Tip Fakültesi 1. öğrenci: Talat',\n",
       "  'Tip Fakültesi 2. öğrenci: Zeynep',\n",
       "  'Tip Fakültesi 3. öğrenci: Ece'])"
      ]
     },
     "execution_count": 101,
     "metadata": {},
     "output_type": "execute_result"
    }
   ],
   "source": [
    "ogrenciler=[\"Ali\",\"Veli\",\"Ayşe\",\"Talat\",\"Zeynep\",\"Ece\"]\n",
    "muh=[]\n",
    "tip=[]\n",
    "def grupOgrenci(ogrenci):\n",
    "    for index,text in enumerate(ogrenci):\n",
    "        if index < 3:\n",
    "            muh.append(f\"Mühendislik Fakültesi {index+1}. öğrenci: {text}\")\n",
    "        elif index >= 3:\n",
    "            tip.append(f\"Tip Fakültesi {index-2}. öğrenci: {text}\")\n",
    "            \n",
    "    return muh,tip\n",
    "    \n",
    "    \n",
    "grupOgrenci(ogrenciler)"
   ]
  },
  {
   "cell_type": "code",
   "execution_count": 138,
   "id": "e480c580",
   "metadata": {},
   "outputs": [
    {
     "name": "stdout",
     "output_type": "stream",
     "text": [
      "Kredisi 3 olan CMP1005 kodlu dersin kontenjanı 30 kişidir\n",
      "Kredisi 4 olan PSY1001 kodlu dersin kontenjanı 75 kişidir\n",
      "Kredisi 2 olan HUK1005 kodlu dersin kontenjanı 150 kişidir\n",
      "Kredisi 4 olan SEN2204 kodlu dersin kontenjanı 25 kişidir\n"
     ]
    }
   ],
   "source": [
    "kelimeler=[\"Kredisi\",\"olan\",\"kodlu dersin kontenjanı\",\"kişidir\"]\n",
    "ders_kodu=[\"CMP1005\",\"PSY1001\",\"HUK1005\",\"SEN2204\"]\n",
    "kredi=[3,4,2,4]\n",
    "kontenjan=[30,75,150,25]\n",
    "\n",
    "zipped=zip(kredi,ders_kodu,kontenjan)\n",
    "zipped_list=list(zipped)\n",
    "\n",
    "for i in zipped_list:\n",
    "    print(f\"{kelimeler[0]} {i[0]} {kelimeler[1]} {i[1]} {kelimeler[2]} {i[2]} {kelimeler[3]}\")"
   ]
  },
  {
   "cell_type": "code",
   "execution_count": 145,
   "id": "0884ecd7",
   "metadata": {},
   "outputs": [
    {
     "data": {
      "text/plain": [
       "{'function', 'lambda', 'miuul', 'qcut'}"
      ]
     },
     "execution_count": 145,
     "metadata": {},
     "output_type": "execute_result"
    }
   ],
   "source": [
    "kume1=set([\"data\",\"python\"])\n",
    "kume2=set([\"data\",\"function\",\"qcut\",\"lambda\",\"python\",\"miuul\"])\n",
    "\n",
    "kume1.symmetric_difference(kume2)\n",
    "kume2-kume1"
   ]
  },
  {
   "cell_type": "code",
   "execution_count": null,
   "id": "ce8021d4",
   "metadata": {},
   "outputs": [],
   "source": []
  }
 ],
 "metadata": {
  "kernelspec": {
   "display_name": "Python 3 (ipykernel)",
   "language": "python",
   "name": "python3"
  },
  "language_info": {
   "codemirror_mode": {
    "name": "ipython",
    "version": 3
   },
   "file_extension": ".py",
   "mimetype": "text/x-python",
   "name": "python",
   "nbconvert_exporter": "python",
   "pygments_lexer": "ipython3",
   "version": "3.9.13"
  }
 },
 "nbformat": 4,
 "nbformat_minor": 5
}
